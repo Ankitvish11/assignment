{
 "cells": [
  {
   "cell_type": "code",
   "execution_count": 1,
   "id": "c72c85c5-5b46-4d02-a9b8-e747b0ef95cd",
   "metadata": {},
   "outputs": [],
   "source": [
    "d = {}"
   ]
  },
  {
   "cell_type": "code",
   "execution_count": 2,
   "id": "f4e87c20-aff0-4961-9d90-4906df04d8ed",
   "metadata": {},
   "outputs": [
    {
     "data": {
      "text/plain": [
       "dict"
      ]
     },
     "execution_count": 2,
     "metadata": {},
     "output_type": "execute_result"
    }
   ],
   "source": [
    "type(d)"
   ]
  },
  {
   "cell_type": "code",
   "execution_count": 3,
   "id": "da47c467-f9ff-475a-aaf9-cb992f68d02e",
   "metadata": {},
   "outputs": [],
   "source": [
    "d1 ={'key' : 'ankyy'}"
   ]
  },
  {
   "cell_type": "code",
   "execution_count": 4,
   "id": "64bc6671-7a63-49f2-89cd-7fd9f39861d7",
   "metadata": {},
   "outputs": [
    {
     "data": {
      "text/plain": [
       "{'key': 'ankyy'}"
      ]
     },
     "execution_count": 4,
     "metadata": {},
     "output_type": "execute_result"
    }
   ],
   "source": [
    "d1"
   ]
  },
  {
   "cell_type": "code",
   "execution_count": 5,
   "id": "baaf96fb-d537-4d5f-b86b-d8b941267751",
   "metadata": {},
   "outputs": [],
   "source": [
    "d2 = {'name' : 'ankit', 'email' : \"ankit.v1108@gmail.com\", 'number': 7523860748}"
   ]
  },
  {
   "cell_type": "code",
   "execution_count": 6,
   "id": "d8740419-5b27-4290-933c-4a671e9282a2",
   "metadata": {},
   "outputs": [
    {
     "data": {
      "text/plain": [
       "{'name': 'ankit', 'email': 'ankit.v1108@gmail.com', 'number': 7523860748}"
      ]
     },
     "execution_count": 6,
     "metadata": {},
     "output_type": "execute_result"
    }
   ],
   "source": [
    "d2"
   ]
  },
  {
   "cell_type": "code",
   "execution_count": 16,
   "id": "34ffc7a3-a8e5-4946-ac83-2b2ef23461c5",
   "metadata": {},
   "outputs": [],
   "source": [
    "d3 = {235: 'ankit',\"@ghd\":256455, True : 25346,False:45645}"
   ]
  },
  {
   "cell_type": "code",
   "execution_count": 17,
   "id": "9c3e02ed-c490-4298-8927-a79f7469c4f6",
   "metadata": {},
   "outputs": [
    {
     "data": {
      "text/plain": [
       "{235: 'ankit', '@ghd': 256455, True: 25346, False: 45645}"
      ]
     },
     "execution_count": 17,
     "metadata": {},
     "output_type": "execute_result"
    }
   ],
   "source": [
    "d3"
   ]
  },
  {
   "cell_type": "code",
   "execution_count": 13,
   "id": "040bc7e0-4eda-4f86-93a2-f243751b338b",
   "metadata": {},
   "outputs": [
    {
     "data": {
      "text/plain": [
       "'ankit'"
      ]
     },
     "execution_count": 13,
     "metadata": {},
     "output_type": "execute_result"
    }
   ],
   "source": [
    "d3[235]"
   ]
  },
  {
   "cell_type": "code",
   "execution_count": 14,
   "id": "b94d9670-bef9-4422-bc70-2c823b719630",
   "metadata": {},
   "outputs": [
    {
     "data": {
      "text/plain": [
       "25346"
      ]
     },
     "execution_count": 14,
     "metadata": {},
     "output_type": "execute_result"
    }
   ],
   "source": [
    "d3[True]"
   ]
  },
  {
   "cell_type": "code",
   "execution_count": 15,
   "id": "7a7cb1eb-db16-48df-bcaa-824934242a5a",
   "metadata": {},
   "outputs": [
    {
     "data": {
      "text/plain": [
       "25346"
      ]
     },
     "execution_count": 15,
     "metadata": {},
     "output_type": "execute_result"
    }
   ],
   "source": [
    "d3[1]"
   ]
  },
  {
   "cell_type": "code",
   "execution_count": 18,
   "id": "ae4aa74d-02e2-4e8f-aa91-c7c7a5b74064",
   "metadata": {},
   "outputs": [
    {
     "data": {
      "text/plain": [
       "45645"
      ]
     },
     "execution_count": 18,
     "metadata": {},
     "output_type": "execute_result"
    }
   ],
   "source": [
    "d3[False]"
   ]
  },
  {
   "cell_type": "code",
   "execution_count": 20,
   "id": "8cd3b7bd-092d-41bd-ba2d-e8358aec59f8",
   "metadata": {},
   "outputs": [
    {
     "data": {
      "text/plain": [
       "45645"
      ]
     },
     "execution_count": 20,
     "metadata": {},
     "output_type": "execute_result"
    }
   ],
   "source": [
    "d3[0]"
   ]
  },
  {
   "cell_type": "code",
   "execution_count": 24,
   "id": "86b9b599-ce90-48a4-9c8b-73f78bd9f1f0",
   "metadata": {},
   "outputs": [],
   "source": [
    "d4={'name' : 'ankyy', 'email': 'ankit.v1100@gmail.com','name' : 'ankit','name':'mansi'}"
   ]
  },
  {
   "cell_type": "code",
   "execution_count": 25,
   "id": "d87eaca3-c6a6-409e-8a64-ff9408992af3",
   "metadata": {},
   "outputs": [
    {
     "data": {
      "text/plain": [
       "{'name': 'mansi', 'email': 'ankit.v1100@gmail.com'}"
      ]
     },
     "execution_count": 25,
     "metadata": {},
     "output_type": "execute_result"
    }
   ],
   "source": [
    "d4"
   ]
  },
  {
   "cell_type": "code",
   "execution_count": 26,
   "id": "267858a2-f59e-4b6d-ab2e-de8bc3c7db36",
   "metadata": {},
   "outputs": [
    {
     "data": {
      "text/plain": [
       "'mansi'"
      ]
     },
     "execution_count": 26,
     "metadata": {},
     "output_type": "execute_result"
    }
   ],
   "source": [
    "d4['name']"
   ]
  },
  {
   "cell_type": "code",
   "execution_count": 27,
   "id": "9efe9afc-d28d-4df1-9645-f130ada0b1fe",
   "metadata": {},
   "outputs": [
    {
     "data": {
      "text/plain": [
       "{'name': 'mansi', 'email': 'ankit.v1100@gmail.com'}"
      ]
     },
     "execution_count": 27,
     "metadata": {},
     "output_type": "execute_result"
    }
   ],
   "source": [
    "d4"
   ]
  },
  {
   "cell_type": "code",
   "execution_count": 28,
   "id": "929b500d-c5ba-4f9d-921c-56119024a426",
   "metadata": {},
   "outputs": [
    {
     "data": {
      "text/plain": [
       "'mansi'"
      ]
     },
     "execution_count": 28,
     "metadata": {},
     "output_type": "execute_result"
    }
   ],
   "source": [
    "d4['name']"
   ]
  },
  {
   "cell_type": "code",
   "execution_count": 29,
   "id": "188c3a2e-baac-44df-9f6f-d9ff867c18c8",
   "metadata": {},
   "outputs": [],
   "source": [
    "d5 = {'company' : \"pwskills\" , 'course' : ['web dev' , 'data science', 'java with dsa system design']}"
   ]
  },
  {
   "cell_type": "code",
   "execution_count": 30,
   "id": "451cc456-ba7a-4db4-962a-6778a2dcbe22",
   "metadata": {},
   "outputs": [
    {
     "data": {
      "text/plain": [
       "{'company': 'pwskills',\n",
       " 'course': ['web dev', 'data science', 'java with dsa system design']}"
      ]
     },
     "execution_count": 30,
     "metadata": {},
     "output_type": "execute_result"
    }
   ],
   "source": [
    "d5"
   ]
  },
  {
   "cell_type": "code",
   "execution_count": 31,
   "id": "4228ab75-9e6d-43a2-9487-474ba031b012",
   "metadata": {},
   "outputs": [
    {
     "data": {
      "text/plain": [
       "['web dev', 'data science', 'java with dsa system design']"
      ]
     },
     "execution_count": 31,
     "metadata": {},
     "output_type": "execute_result"
    }
   ],
   "source": [
    "d5['course']"
   ]
  },
  {
   "cell_type": "code",
   "execution_count": 33,
   "id": "b450f236-0518-440d-8588-96617d3eff93",
   "metadata": {},
   "outputs": [
    {
     "data": {
      "text/plain": [
       "'java with dsa system design'"
      ]
     },
     "execution_count": 33,
     "metadata": {},
     "output_type": "execute_result"
    }
   ],
   "source": [
    "d5['course'][2]"
   ]
  },
  {
   "cell_type": "code",
   "execution_count": 38,
   "id": "dd6bdd26-5658-4619-9e6d-baf317287939",
   "metadata": {},
   "outputs": [],
   "source": [
    "d6 = {'number' : [23,2,3,5,365] , 'assignment' : (2,3,4,5,6), 'launch date' : {24,14,26}, 'class_time' : {\"web dev\" : 3 , 'data science': 8 ,\"java\":9}}"
   ]
  },
  {
   "cell_type": "code",
   "execution_count": 39,
   "id": "1c22b683-4792-4dab-8d4a-746a1b66678d",
   "metadata": {},
   "outputs": [
    {
     "data": {
      "text/plain": [
       "{'number': [23, 2, 3, 5, 365],\n",
       " 'assignment': (2, 3, 4, 5, 6),\n",
       " 'launch date': {14, 24, 26},\n",
       " 'class_time': {'web dev': 3, 'data science': 8, 'java': 9}}"
      ]
     },
     "execution_count": 39,
     "metadata": {},
     "output_type": "execute_result"
    }
   ],
   "source": [
    "d6"
   ]
  },
  {
   "cell_type": "code",
   "execution_count": 40,
   "id": "97ac34e9-c21f-43ef-aeda-7bb946ced604",
   "metadata": {},
   "outputs": [
    {
     "data": {
      "text/plain": [
       "{'number': [23, 2, 3, 5, 365],\n",
       " 'assignment': (2, 3, 4, 5, 6),\n",
       " 'launch date': {14, 24, 26},\n",
       " 'class_time': {'web dev': 3, 'data science': 8, 'java': 9}}"
      ]
     },
     "execution_count": 40,
     "metadata": {},
     "output_type": "execute_result"
    }
   ],
   "source": [
    "d6"
   ]
  },
  {
   "cell_type": "code",
   "execution_count": 41,
   "id": "f89080b5-3875-463c-8bd5-dca0903f561d",
   "metadata": {},
   "outputs": [],
   "source": [
    "d6['mentor'] = [\"akhilesh\",'mansi','vijay']"
   ]
  },
  {
   "cell_type": "code",
   "execution_count": 42,
   "id": "fc64d3d8-2772-4502-9d4d-66755ec8b389",
   "metadata": {},
   "outputs": [
    {
     "data": {
      "text/plain": [
       "{'number': [23, 2, 3, 5, 365],\n",
       " 'assignment': (2, 3, 4, 5, 6),\n",
       " 'launch date': {14, 24, 26},\n",
       " 'class_time': {'web dev': 3, 'data science': 8, 'java': 9},\n",
       " 'mentor': ['akhilesh', 'mansi', 'vijay']}"
      ]
     },
     "execution_count": 42,
     "metadata": {},
     "output_type": "execute_result"
    }
   ],
   "source": [
    "d6"
   ]
  },
  {
   "cell_type": "code",
   "execution_count": 43,
   "id": "b87557eb-9388-4166-a3f5-ea10e91630d0",
   "metadata": {},
   "outputs": [],
   "source": [
    "del d6['number']"
   ]
  },
  {
   "cell_type": "code",
   "execution_count": 44,
   "id": "1f027f89-5903-4f80-9eca-2c1b7a641e32",
   "metadata": {},
   "outputs": [
    {
     "data": {
      "text/plain": [
       "{'assignment': (2, 3, 4, 5, 6),\n",
       " 'launch date': {14, 24, 26},\n",
       " 'class_time': {'web dev': 3, 'data science': 8, 'java': 9},\n",
       " 'mentor': ['akhilesh', 'mansi', 'vijay']}"
      ]
     },
     "execution_count": 44,
     "metadata": {},
     "output_type": "execute_result"
    }
   ],
   "source": [
    "d6"
   ]
  },
  {
   "cell_type": "code",
   "execution_count": 45,
   "id": "2d4e0694-4bec-45b4-b23c-15bdbffafdc1",
   "metadata": {},
   "outputs": [
    {
     "data": {
      "text/plain": [
       "{'assignment': (2, 3, 4, 5, 6),\n",
       " 'launch date': {14, 24, 26},\n",
       " 'class_time': {'web dev': 3, 'data science': 8, 'java': 9},\n",
       " 'mentor': ['akhilesh', 'mansi', 'vijay']}"
      ]
     },
     "execution_count": 45,
     "metadata": {},
     "output_type": "execute_result"
    }
   ],
   "source": [
    "d6"
   ]
  },
  {
   "cell_type": "code",
   "execution_count": 46,
   "id": "a13a30d2-574c-4dbc-b308-48a3a0d0ef09",
   "metadata": {},
   "outputs": [
    {
     "data": {
      "text/plain": [
       "dict_keys(['assignment', 'launch date', 'class_time', 'mentor'])"
      ]
     },
     "execution_count": 46,
     "metadata": {},
     "output_type": "execute_result"
    }
   ],
   "source": [
    "d6.keys()"
   ]
  },
  {
   "cell_type": "code",
   "execution_count": 47,
   "id": "d5d47fcd-82b1-4560-9f09-9c9d2cd490db",
   "metadata": {},
   "outputs": [
    {
     "data": {
      "text/plain": [
       "['assignment', 'launch date', 'class_time', 'mentor']"
      ]
     },
     "execution_count": 47,
     "metadata": {},
     "output_type": "execute_result"
    }
   ],
   "source": [
    "list(d6.keys())"
   ]
  },
  {
   "cell_type": "code",
   "execution_count": 48,
   "id": "030fe56a-5871-46fb-a04d-fe525477674f",
   "metadata": {},
   "outputs": [
    {
     "data": {
      "text/plain": [
       "dict_values([(2, 3, 4, 5, 6), {24, 26, 14}, {'web dev': 3, 'data science': 8, 'java': 9}, ['akhilesh', 'mansi', 'vijay']])"
      ]
     },
     "execution_count": 48,
     "metadata": {},
     "output_type": "execute_result"
    }
   ],
   "source": [
    "d6.values()"
   ]
  },
  {
   "cell_type": "code",
   "execution_count": 49,
   "id": "7b94e98c-7a28-4dbe-9e7f-65b14ab18348",
   "metadata": {},
   "outputs": [
    {
     "data": {
      "text/plain": [
       "[(2, 3, 4, 5, 6),\n",
       " {14, 24, 26},\n",
       " {'web dev': 3, 'data science': 8, 'java': 9},\n",
       " ['akhilesh', 'mansi', 'vijay']]"
      ]
     },
     "execution_count": 49,
     "metadata": {},
     "output_type": "execute_result"
    }
   ],
   "source": [
    "list(d6.values())"
   ]
  },
  {
   "cell_type": "code",
   "execution_count": 50,
   "id": "b3defc02-c698-47f8-b397-4295a4bf57da",
   "metadata": {},
   "outputs": [
    {
     "data": {
      "text/plain": [
       "dict_items([('assignment', (2, 3, 4, 5, 6)), ('launch date', {24, 26, 14}), ('class_time', {'web dev': 3, 'data science': 8, 'java': 9}), ('mentor', ['akhilesh', 'mansi', 'vijay'])])"
      ]
     },
     "execution_count": 50,
     "metadata": {},
     "output_type": "execute_result"
    }
   ],
   "source": [
    "d6.items()"
   ]
  },
  {
   "cell_type": "code",
   "execution_count": 52,
   "id": "804beac4-0d45-4d19-acd3-27225275e7fc",
   "metadata": {},
   "outputs": [
    {
     "data": {
      "text/plain": [
       "[('assignment', (2, 3, 4, 5, 6)),\n",
       " ('launch date', {14, 24, 26}),\n",
       " ('class_time', {'web dev': 3, 'data science': 8, 'java': 9}),\n",
       " ('mentor', ['akhilesh', 'mansi', 'vijay'])]"
      ]
     },
     "execution_count": 52,
     "metadata": {},
     "output_type": "execute_result"
    }
   ],
   "source": [
    "list(d6.items())"
   ]
  },
  {
   "cell_type": "code",
   "execution_count": 53,
   "id": "e1d3134f-217b-430a-98fd-0a006d1f932c",
   "metadata": {},
   "outputs": [
    {
     "data": {
      "text/plain": [
       "(2, 3, 4, 5, 6)"
      ]
     },
     "execution_count": 53,
     "metadata": {},
     "output_type": "execute_result"
    }
   ],
   "source": [
    "d6.pop('assignment')"
   ]
  },
  {
   "cell_type": "code",
   "execution_count": 59,
   "id": "3411c494-7ee8-45f3-9008-16a151a919c7",
   "metadata": {},
   "outputs": [
    {
     "data": {
      "text/plain": [
       "{'launch date': {14, 24, 26},\n",
       " 'class_time': {'web dev': 3, 'data science': 8, 'java': 9},\n",
       " 'mentor': ['akhilesh', 'mansi', 'vijay']}"
      ]
     },
     "execution_count": 59,
     "metadata": {},
     "output_type": "execute_result"
    }
   ],
   "source": [
    "d6"
   ]
  },
  {
   "cell_type": "code",
   "execution_count": 66,
   "id": "c029b664-4f0b-40fc-b45d-56d22af381e6",
   "metadata": {},
   "outputs": [
    {
     "data": {
      "text/plain": [
       "{'launch date': {14, 24, 26},\n",
       " 'class_time': {'web dev': 3, 'data science': 8, 'java': 9},\n",
       " 'mentor': ['akhilesh', 'mansi', 'vijay']}"
      ]
     },
     "execution_count": 66,
     "metadata": {},
     "output_type": "execute_result"
    }
   ],
   "source": [
    "d6"
   ]
  },
  {
   "cell_type": "code",
   "execution_count": 67,
   "id": "36fffac8-bc20-453d-99d0-f396b5122415",
   "metadata": {},
   "outputs": [
    {
     "data": {
      "text/plain": [
       "{'launch date': {14, 24, 26},\n",
       " 'class_time': {'web dev': 3, 'data science': 8, 'java': 9},\n",
       " 'mentor': ['akhilesh', 'mansi', 'vijay']}"
      ]
     },
     "execution_count": 67,
     "metadata": {},
     "output_type": "execute_result"
    }
   ],
   "source": [
    "d6"
   ]
  },
  {
   "cell_type": "code",
   "execution_count": 68,
   "id": "c04dd737-cc1c-4eca-b5b1-954af70cad15",
   "metadata": {},
   "outputs": [
    {
     "ename": "NameError",
     "evalue": "name 'marks' is not defined",
     "output_type": "error",
     "traceback": [
      "\u001b[0;31m---------------------------------------------------------------------------\u001b[0m",
      "\u001b[0;31mNameError\u001b[0m                                 Traceback (most recent call last)",
      "Cell \u001b[0;32mIn[68], line 1\u001b[0m\n\u001b[0;32m----> 1\u001b[0m \u001b[38;5;28;01mif\u001b[39;00m \u001b[43mmarks\u001b[49m \u001b[38;5;241m>\u001b[39m\u001b[38;5;241m=\u001b[39m \u001b[38;5;241m80\u001b[39m:\n\u001b[1;32m      2\u001b[0m     \u001b[38;5;28mprint\u001b[39m(\u001b[38;5;124m\"\u001b[39m\u001b[38;5;124myou will be a part of A0 batch\u001b[39m\u001b[38;5;124m\"\u001b[39m)\n\u001b[1;32m      3\u001b[0m \u001b[38;5;28;01melif\u001b[39;00m marks \u001b[38;5;241m>\u001b[39m\u001b[38;5;241m=\u001b[39m\u001b[38;5;241m60\u001b[39m \u001b[38;5;129;01mand\u001b[39;00m marks\u001b[38;5;241m<\u001b[39m\u001b[38;5;241m80\u001b[39m:\n",
      "\u001b[0;31mNameError\u001b[0m: name 'marks' is not defined"
     ]
    }
   ],
   "source": [
    "if marks >= 80:\n",
    "    print(\"you will be a part of A0 batch\")\n",
    "elif marks >=60 and marks<80:\n",
    "    print(\"you will be a part of A1 batch\")\n",
    "elif marks >=40 and marks <60:\n",
    "    print(\"you will be a part of A2 batch\")\n",
    "else:\n",
    "    print(\"you will be a part of A3 batch\")"
   ]
  },
  {
   "cell_type": "code",
   "execution_count": 69,
   "id": "38c7594d-d2b3-40f7-8285-7ed22f77ed53",
   "metadata": {},
   "outputs": [
    {
     "name": "stdout",
     "output_type": "stream",
     "text": [
      "you will be a part of A1 batch\n"
     ]
    }
   ],
   "source": [
    "marks = 65\n",
    "if marks >= 80:\n",
    "    print(\"you will be a part of A0 batch\")\n",
    "elif marks >=60 and marks<80:\n",
    "    print(\"you will be a part of A1 batch\")\n",
    "elif marks >=40 and marks <60:\n",
    "    print(\"you will be a part of A2 batch\")\n",
    "else:\n",
    "    print(\"you will be a part of A3 batch\")"
   ]
  },
  {
   "cell_type": "code",
   "execution_count": 71,
   "id": "c0c89013-adca-42ca-b0ca-32aedad64e04",
   "metadata": {},
   "outputs": [
    {
     "name": "stdout",
     "output_type": "stream",
     "text": [
      "you will be a part of A3 batch\n"
     ]
    }
   ],
   "source": [
    "marks = input(\"enter your marks\")\n",
    "if marks >= 80:\n",
    "    print(\"you will be a part of A0 batch\")\n",
    "elif marks >=60 and marks<80:\n",
    "    print(\"you will be a part of A1 batch\")\n",
    "elif marks >=40 and marks <60:\n",
    "    print(\"you will be a part of A2 batch\")\n",
    "else:\n",
    "    print(\"you will be a part of A3 batch\")"
   ]
  },
  {
   "cell_type": "code",
   "execution_count": 72,
   "id": "c38ed5ef-da2f-4f66-935b-7a90158a32b5",
   "metadata": {},
   "outputs": [
    {
     "data": {
      "text/plain": [
       "False"
      ]
     },
     "execution_count": 72,
     "metadata": {},
     "output_type": "execute_result"
    }
   ],
   "source": [
    "10>=80"
   ]
  },
  {
   "cell_type": "code",
   "execution_count": 74,
   "id": "3416e310-6206-4968-934a-e0461174967c",
   "metadata": {},
   "outputs": [
    {
     "data": {
      "text/plain": [
       "False"
      ]
     },
     "execution_count": 74,
     "metadata": {},
     "output_type": "execute_result"
    }
   ],
   "source": [
    "10 >= 60 and 10 <80"
   ]
  },
  {
   "cell_type": "code",
   "execution_count": 75,
   "id": "a20ffe12-bd9e-42f0-810f-e1e7d409d4ad",
   "metadata": {},
   "outputs": [
    {
     "data": {
      "text/plain": [
       "True"
      ]
     },
     "execution_count": 75,
     "metadata": {},
     "output_type": "execute_result"
    }
   ],
   "source": [
    "10 <80"
   ]
  },
  {
   "cell_type": "code",
   "execution_count": 1,
   "id": "5752dd70-8a52-455c-9225-1b6e733d14a4",
   "metadata": {},
   "outputs": [
    {
     "name": "stdin",
     "output_type": "stream",
     "text": [
      "enter your marks 45\n"
     ]
    }
   ],
   "source": []
  },
  {
   "cell_type": "code",
   "execution_count": 77,
   "id": "3d092e31-caca-41f6-82e7-28ad34ddbd23",
   "metadata": {},
   "outputs": [
    {
     "data": {
      "text/plain": [
       "'45'"
      ]
     },
     "execution_count": 77,
     "metadata": {},
     "output_type": "execute_result"
    }
   ],
   "source": [
    "marks"
   ]
  },
  {
   "cell_type": "code",
   "execution_count": 4,
   "id": "23dcaf3a-cde2-425b-800f-f0b2317c943d",
   "metadata": {},
   "outputs": [
    {
     "name": "stdin",
     "output_type": "stream",
     "text": [
      "enter your marks 60\n"
     ]
    }
   ],
   "source": [
    "marks = input(\"enter your marks\")"
   ]
  },
  {
   "cell_type": "code",
   "execution_count": 1,
   "id": "efa8da25-e421-419c-827a-a3e78a6efa27",
   "metadata": {},
   "outputs": [
    {
     "name": "stdin",
     "output_type": "stream",
     "text": [
      "enter your marks 60\n"
     ]
    },
    {
     "name": "stdout",
     "output_type": "stream",
     "text": [
      "you will be a part of A1 batch\n"
     ]
    }
   ],
   "source": [
    "marks = int(input(\"enter your marks\"))\n",
    "if marks >= 80:\n",
    "    print(\"you will be a part of A0 batch\")\n",
    "elif marks >=60 and marks<80:\n",
    "    print(\"you will be a part of A1 batch\")\n",
    "elif marks >=40 and marks <60:\n",
    "    print(\"you will be a part of A2 batch\")\n",
    "else:\n",
    "    print(\"you will be a part of A3 batch\")"
   ]
  },
  {
   "cell_type": "code",
   "execution_count": 3,
   "id": "75082c4d-6a44-4016-ab2b-027c45dd3908",
   "metadata": {},
   "outputs": [
    {
     "name": "stdin",
     "output_type": "stream",
     "text": [
      "enter your marks 80\n"
     ]
    }
   ],
   "source": [
    "marks = int(input(\"enter your marks\"))"
   ]
  },
  {
   "cell_type": "code",
   "execution_count": 4,
   "id": "3317850e-5e74-441b-83ab-6ca8aa49f933",
   "metadata": {},
   "outputs": [
    {
     "name": "stdin",
     "output_type": "stream",
     "text": [
      "enter your marks 45\n"
     ]
    }
   ],
   "source": [
    "marks = int(input(\"enter your marks\"))"
   ]
  },
  {
   "cell_type": "code",
   "execution_count": 11,
   "id": "b0d16119-e2cc-4c00-8aa1-42dc1378f831",
   "metadata": {},
   "outputs": [
    {
     "name": "stdin",
     "output_type": "stream",
     "text": [
      "enter price 1010\n"
     ]
    },
    {
     "name": "stdout",
     "output_type": "stream",
     "text": [
      "i will not purchase\n"
     ]
    }
   ],
   "source": [
    "price = int(input(\"enter price\"))\n",
    "if price > 1000:\n",
    "    print (\"i will not purchase\")\n",
    "else:\n",
    "    print(\"i will purchase\")\n",
    "    "
   ]
  },
  {
   "cell_type": "code",
   "execution_count": 18,
   "id": "8ff388ac-c348-432d-9ef5-8ba419ca2252",
   "metadata": {},
   "outputs": [
    {
     "name": "stdin",
     "output_type": "stream",
     "text": [
      "enter price 1500\n"
     ]
    },
    {
     "name": "stdout",
     "output_type": "stream",
     "text": [
      "i will not purchase\n",
      "its ok\n"
     ]
    }
   ],
   "source": [
    "price = int(input(\"enter price\"))\n",
    "if price > 1000:\n",
    "    print (\"i will not purchase\")\n",
    "    if price > 5000:\n",
    "        print (\"it is to much\")\n",
    "    elif price <2000:\n",
    "        print(\"its ok\")\n",
    "elif price < 1000:  \n",
    "    print (\"in will purchse\")\n",
    "else :\n",
    "    print(\"not interested\")"
   ]
  },
  {
   "cell_type": "code",
   "execution_count": 20,
   "id": "aced3c15-da9e-46f4-830d-5e5afd8aabe9",
   "metadata": {},
   "outputs": [],
   "source": [
    "l = [1,2,3,4,5,6,2]"
   ]
  },
  {
   "cell_type": "code",
   "execution_count": 22,
   "id": "008cdb4e-508c-4bc2-a30e-878c4e890937",
   "metadata": {},
   "outputs": [
    {
     "data": {
      "text/plain": [
       "2"
      ]
     },
     "execution_count": 22,
     "metadata": {},
     "output_type": "execute_result"
    }
   ],
   "source": [
    "l[0]+1"
   ]
  },
  {
   "cell_type": "code",
   "execution_count": 23,
   "id": "18836b38-ba50-41bf-9a7b-edb55d66a42d",
   "metadata": {},
   "outputs": [],
   "source": [
    "l1 = []"
   ]
  },
  {
   "cell_type": "code",
   "execution_count": 25,
   "id": "2c539427-ce06-4ee6-b10e-eac66f10207d",
   "metadata": {},
   "outputs": [],
   "source": [
    "l1.append(l[0]+1)"
   ]
  },
  {
   "cell_type": "code",
   "execution_count": 26,
   "id": "c6b60967-64b3-4283-a0a5-e2e10e326dd3",
   "metadata": {},
   "outputs": [
    {
     "data": {
      "text/plain": [
       "[2]"
      ]
     },
     "execution_count": 26,
     "metadata": {},
     "output_type": "execute_result"
    }
   ],
   "source": [
    "l1"
   ]
  },
  {
   "cell_type": "code",
   "execution_count": 27,
   "id": "3b42e261-4950-476e-9ad6-ce09ca58c1d4",
   "metadata": {},
   "outputs": [],
   "source": [
    "l = [1,2,3,4,5,6,2]"
   ]
  },
  {
   "cell_type": "code",
   "execution_count": 29,
   "id": "d7008d4c-34c7-4f66-8563-cbd481b79505",
   "metadata": {},
   "outputs": [
    {
     "name": "stdout",
     "output_type": "stream",
     "text": [
      "1\n",
      "2\n",
      "3\n",
      "4\n",
      "5\n",
      "6\n",
      "2\n"
     ]
    }
   ],
   "source": [
    "for i in l:\n",
    "    print(i)"
   ]
  },
  {
   "cell_type": "code",
   "execution_count": 31,
   "id": "037f7be9-4ad6-4b59-be03-d13cc81c9e04",
   "metadata": {},
   "outputs": [
    {
     "name": "stdout",
     "output_type": "stream",
     "text": [
      "2\n",
      "3\n",
      "4\n",
      "5\n",
      "6\n",
      "7\n",
      "3\n"
     ]
    }
   ],
   "source": [
    "for i in l:\n",
    "    print(i+1)"
   ]
  },
  {
   "cell_type": "code",
   "execution_count": 36,
   "id": "ebba4db1-66bf-449e-8947-4b4facad40f5",
   "metadata": {},
   "outputs": [
    {
     "name": "stdout",
     "output_type": "stream",
     "text": [
      "2\n",
      "3\n",
      "4\n",
      "5\n",
      "6\n",
      "7\n",
      "3\n"
     ]
    },
    {
     "data": {
      "text/plain": [
       "[2, 3, 4, 5, 6, 7, 3]"
      ]
     },
     "execution_count": 36,
     "metadata": {},
     "output_type": "execute_result"
    }
   ],
   "source": [
    "l1 = []\n",
    "for i in l:\n",
    "    print(i+1)\n",
    "    l1.append(i+1) \n",
    "l1    "
   ]
  },
  {
   "cell_type": "code",
   "execution_count": 37,
   "id": "698f8b09-1e93-469a-9baa-08b16aa94d59",
   "metadata": {},
   "outputs": [
    {
     "data": {
      "text/plain": [
       "[1, 2, 3, 4, 5, 6, 2]"
      ]
     },
     "execution_count": 37,
     "metadata": {},
     "output_type": "execute_result"
    }
   ],
   "source": [
    "l"
   ]
  },
  {
   "cell_type": "code",
   "execution_count": 38,
   "id": "84b36054-e1fa-4528-95df-1f7ad8f4ff82",
   "metadata": {},
   "outputs": [
    {
     "data": {
      "text/plain": [
       "[2, 3, 4, 5, 6, 7, 3]"
      ]
     },
     "execution_count": 38,
     "metadata": {},
     "output_type": "execute_result"
    }
   ],
   "source": [
    "l1"
   ]
  },
  {
   "cell_type": "code",
   "execution_count": 39,
   "id": "2a596941-0287-4492-acfa-2457eb1832c4",
   "metadata": {},
   "outputs": [],
   "source": [
    "l = ['sudh' , 'kumar' , 'pwskills' , 'course']"
   ]
  },
  {
   "cell_type": "code",
   "execution_count": 41,
   "id": "e3bfe490-ce68-45fc-9603-b14ffaecc4be",
   "metadata": {},
   "outputs": [
    {
     "name": "stdout",
     "output_type": "stream",
     "text": [
      "sudh\n",
      "kumar\n",
      "pwskills\n",
      "course\n"
     ]
    }
   ],
   "source": [
    "for i in l:\n",
    "    print (i)\n",
    "    "
   ]
  },
  {
   "cell_type": "code",
   "execution_count": 43,
   "id": "717a3724-c6e0-4650-ac3b-d1f252ff5389",
   "metadata": {},
   "outputs": [
    {
     "name": "stdout",
     "output_type": "stream",
     "text": [
      "sudh\n",
      "kumar\n",
      "pwskills\n",
      "course\n"
     ]
    }
   ],
   "source": [
    "l1= []\n",
    "for i in l:\n",
    "    print (i)\n",
    "    l1.append(i.upper())"
   ]
  },
  {
   "cell_type": "code",
   "execution_count": 44,
   "id": "eab8c503-99c1-4289-b9ea-d0853db1e1b4",
   "metadata": {},
   "outputs": [
    {
     "data": {
      "text/plain": [
       "['SUDH', 'KUMAR', 'PWSKILLS', 'COURSE']"
      ]
     },
     "execution_count": 44,
     "metadata": {},
     "output_type": "execute_result"
    }
   ],
   "source": [
    "l1"
   ]
  },
  {
   "cell_type": "code",
   "execution_count": 45,
   "id": "5cf31d3a-6ebe-4bef-b853-ec8dfab1a07e",
   "metadata": {},
   "outputs": [],
   "source": [
    "l = [1,2,3,2,4,\"ankit\",\"kumar\",35,25.22,\"abc\"]"
   ]
  },
  {
   "cell_type": "code",
   "execution_count": 56,
   "id": "54dc9248-8236-4f8a-a9ab-4e572ee9fe4c",
   "metadata": {},
   "outputs": [],
   "source": [
    "l1_num = []\n",
    "l2_str = []\n",
    "for i in l :\n",
    "    if type(i)==int or type(i)==float:\n",
    "        l1_num.append(i)\n",
    "    else :\n",
    "        l2_str.append(i)"
   ]
  },
  {
   "cell_type": "code",
   "execution_count": 57,
   "id": "1ae9f540-b676-435c-8f7c-97d7be01423a",
   "metadata": {},
   "outputs": [
    {
     "data": {
      "text/plain": [
       "[1, 2, 3, 2, 4, 35, 25.22]"
      ]
     },
     "execution_count": 57,
     "metadata": {},
     "output_type": "execute_result"
    }
   ],
   "source": [
    "l1_num"
   ]
  },
  {
   "cell_type": "code",
   "execution_count": 58,
   "id": "09c0d6db-7439-4b69-9317-256fb09f73bd",
   "metadata": {},
   "outputs": [
    {
     "data": {
      "text/plain": [
       "['ankit', 'kumar', 'abc']"
      ]
     },
     "execution_count": 58,
     "metadata": {},
     "output_type": "execute_result"
    }
   ],
   "source": [
    "l2_str"
   ]
  },
  {
   "cell_type": "code",
   "execution_count": null,
   "id": "f4e941ff-84d8-4b69-bc0b-713b04366788",
   "metadata": {},
   "outputs": [],
   "source": []
  }
 ],
 "metadata": {
  "kernelspec": {
   "display_name": "Python 3 (ipykernel)",
   "language": "python",
   "name": "python3"
  },
  "language_info": {
   "codemirror_mode": {
    "name": "ipython",
    "version": 3
   },
   "file_extension": ".py",
   "mimetype": "text/x-python",
   "name": "python",
   "nbconvert_exporter": "python",
   "pygments_lexer": "ipython3",
   "version": "3.10.8"
  }
 },
 "nbformat": 4,
 "nbformat_minor": 5
}
